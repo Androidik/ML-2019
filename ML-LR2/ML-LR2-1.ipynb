{
 "cells": [
  {
   "cell_type": "code",
   "execution_count": 1,
   "metadata": {},
   "outputs": [],
   "source": [
    "import numpy as np\n",
    "import pandas as pd\n",
    "pd.set_option('display.max.columns', 100)\n",
    "# to draw pictures in jupyter notebook\n",
    "%matplotlib inline \n",
    "import matplotlib.pyplot as plt\n",
    "import seaborn as sns\n",
    "# we don't like warnings\n",
    "# you can comment the following 2 lines if you'd like to\n",
    "import warnings\n",
    "warnings.filterwarnings('ignore')"
   ]
  },
  {
   "cell_type": "code",
   "execution_count": 2,
   "metadata": {},
   "outputs": [],
   "source": [
    "data = pd.read_csv('adult.csv', sep = ',')"
   ]
  },
  {
   "cell_type": "code",
   "execution_count": 3,
   "metadata": {},
   "outputs": [
    {
     "data": {
      "text/html": [
       "<div>\n",
       "<style scoped>\n",
       "    .dataframe tbody tr th:only-of-type {\n",
       "        vertical-align: middle;\n",
       "    }\n",
       "\n",
       "    .dataframe tbody tr th {\n",
       "        vertical-align: top;\n",
       "    }\n",
       "\n",
       "    .dataframe thead th {\n",
       "        text-align: right;\n",
       "    }\n",
       "</style>\n",
       "<table border=\"1\" class=\"dataframe\">\n",
       "  <thead>\n",
       "    <tr style=\"text-align: right;\">\n",
       "      <th></th>\n",
       "      <th>age</th>\n",
       "      <th>workclass</th>\n",
       "      <th>fnlwgt</th>\n",
       "      <th>education</th>\n",
       "      <th>educational-num</th>\n",
       "      <th>marital-status</th>\n",
       "      <th>occupation</th>\n",
       "      <th>relationship</th>\n",
       "      <th>race</th>\n",
       "      <th>gender</th>\n",
       "      <th>capital-gain</th>\n",
       "      <th>capital-loss</th>\n",
       "      <th>hours-per-week</th>\n",
       "      <th>native-country</th>\n",
       "      <th>income</th>\n",
       "    </tr>\n",
       "  </thead>\n",
       "  <tbody>\n",
       "    <tr>\n",
       "      <th>0</th>\n",
       "      <td>25</td>\n",
       "      <td>Private</td>\n",
       "      <td>226802</td>\n",
       "      <td>11th</td>\n",
       "      <td>7</td>\n",
       "      <td>Never-married</td>\n",
       "      <td>Machine-op-inspct</td>\n",
       "      <td>Own-child</td>\n",
       "      <td>Black</td>\n",
       "      <td>Male</td>\n",
       "      <td>0</td>\n",
       "      <td>0</td>\n",
       "      <td>40</td>\n",
       "      <td>United-States</td>\n",
       "      <td>&lt;=50K</td>\n",
       "    </tr>\n",
       "    <tr>\n",
       "      <th>1</th>\n",
       "      <td>38</td>\n",
       "      <td>Private</td>\n",
       "      <td>89814</td>\n",
       "      <td>HS-grad</td>\n",
       "      <td>9</td>\n",
       "      <td>Married-civ-spouse</td>\n",
       "      <td>Farming-fishing</td>\n",
       "      <td>Husband</td>\n",
       "      <td>White</td>\n",
       "      <td>Male</td>\n",
       "      <td>0</td>\n",
       "      <td>0</td>\n",
       "      <td>50</td>\n",
       "      <td>United-States</td>\n",
       "      <td>&lt;=50K</td>\n",
       "    </tr>\n",
       "    <tr>\n",
       "      <th>2</th>\n",
       "      <td>28</td>\n",
       "      <td>Local-gov</td>\n",
       "      <td>336951</td>\n",
       "      <td>Assoc-acdm</td>\n",
       "      <td>12</td>\n",
       "      <td>Married-civ-spouse</td>\n",
       "      <td>Protective-serv</td>\n",
       "      <td>Husband</td>\n",
       "      <td>White</td>\n",
       "      <td>Male</td>\n",
       "      <td>0</td>\n",
       "      <td>0</td>\n",
       "      <td>40</td>\n",
       "      <td>United-States</td>\n",
       "      <td>&gt;50K</td>\n",
       "    </tr>\n",
       "    <tr>\n",
       "      <th>3</th>\n",
       "      <td>44</td>\n",
       "      <td>Private</td>\n",
       "      <td>160323</td>\n",
       "      <td>Some-college</td>\n",
       "      <td>10</td>\n",
       "      <td>Married-civ-spouse</td>\n",
       "      <td>Machine-op-inspct</td>\n",
       "      <td>Husband</td>\n",
       "      <td>Black</td>\n",
       "      <td>Male</td>\n",
       "      <td>7688</td>\n",
       "      <td>0</td>\n",
       "      <td>40</td>\n",
       "      <td>United-States</td>\n",
       "      <td>&gt;50K</td>\n",
       "    </tr>\n",
       "    <tr>\n",
       "      <th>4</th>\n",
       "      <td>18</td>\n",
       "      <td>?</td>\n",
       "      <td>103497</td>\n",
       "      <td>Some-college</td>\n",
       "      <td>10</td>\n",
       "      <td>Never-married</td>\n",
       "      <td>?</td>\n",
       "      <td>Own-child</td>\n",
       "      <td>White</td>\n",
       "      <td>Female</td>\n",
       "      <td>0</td>\n",
       "      <td>0</td>\n",
       "      <td>30</td>\n",
       "      <td>United-States</td>\n",
       "      <td>&lt;=50K</td>\n",
       "    </tr>\n",
       "  </tbody>\n",
       "</table>\n",
       "</div>"
      ],
      "text/plain": [
       "   age  workclass  fnlwgt     education  educational-num      marital-status  \\\n",
       "0   25    Private  226802          11th                7       Never-married   \n",
       "1   38    Private   89814       HS-grad                9  Married-civ-spouse   \n",
       "2   28  Local-gov  336951    Assoc-acdm               12  Married-civ-spouse   \n",
       "3   44    Private  160323  Some-college               10  Married-civ-spouse   \n",
       "4   18          ?  103497  Some-college               10       Never-married   \n",
       "\n",
       "          occupation relationship   race  gender  capital-gain  capital-loss  \\\n",
       "0  Machine-op-inspct    Own-child  Black    Male             0             0   \n",
       "1    Farming-fishing      Husband  White    Male             0             0   \n",
       "2    Protective-serv      Husband  White    Male             0             0   \n",
       "3  Machine-op-inspct      Husband  Black    Male          7688             0   \n",
       "4                  ?    Own-child  White  Female             0             0   \n",
       "\n",
       "   hours-per-week native-country income  \n",
       "0              40  United-States  <=50K  \n",
       "1              50  United-States  <=50K  \n",
       "2              40  United-States   >50K  \n",
       "3              40  United-States   >50K  \n",
       "4              30  United-States  <=50K  "
      ]
     },
     "execution_count": 3,
     "metadata": {},
     "output_type": "execute_result"
    }
   ],
   "source": [
    "data.head()"
   ]
  },
  {
   "cell_type": "code",
   "execution_count": 4,
   "metadata": {},
   "outputs": [
    {
     "data": {
      "text/plain": [
       "36.92798913043478"
      ]
     },
     "execution_count": 4,
     "metadata": {},
     "output_type": "execute_result"
    }
   ],
   "source": [
    "data[data['gender'] == 'Female']['age'].mean()"
   ]
  },
  {
   "cell_type": "code",
   "execution_count": 5,
   "metadata": {},
   "outputs": [
    {
     "data": {
      "text/plain": [
       "0.00421768150362393"
      ]
     },
     "execution_count": 5,
     "metadata": {},
     "output_type": "execute_result"
    }
   ],
   "source": [
    "(data['native-country'] == \"Germany\").sum()/data.shape[0]"
   ]
  },
  {
   "cell_type": "code",
   "execution_count": 7,
   "metadata": {},
   "outputs": [
    {
     "name": "stdout",
     "output_type": "stream",
     "text": [
      "The average age of the rich: 44 +- 10.6 years, poor - 37 +- 14.1 years.\n"
     ]
    }
   ],
   "source": [
    "ages1 = data.loc[data['income'] == '>50K', 'age']\n",
    "ages2 = data.loc[data['income'] == '<=50K', 'age']\n",
    "print(\"The average age of the rich: {0} +- {1} years, poor - {2} +- {3} years.\".format(\n",
    "    round(ages1.mean()), round(ages1.std(), 1),\n",
    "    round(ages2.mean()), round(ages2.std(), 1)))"
   ]
  },
  {
   "cell_type": "code",
   "execution_count": 9,
   "metadata": {},
   "outputs": [
    {
     "data": {
      "text/plain": [
       "array(['Assoc-acdm', 'Some-college', 'Prof-school', 'HS-grad', 'Masters',\n",
       "       'Doctorate', 'Bachelors', 'Assoc-voc', '9th', '10th', '7th-8th',\n",
       "       '11th', '5th-6th', '1st-4th', '12th', 'Preschool'], dtype=object)"
      ]
     },
     "execution_count": 9,
     "metadata": {},
     "output_type": "execute_result"
    }
   ],
   "source": [
    "data.loc[data['income'] == '>50K', 'education'].unique()"
   ]
  },
  {
   "cell_type": "code",
   "execution_count": 11,
   "metadata": {},
   "outputs": [
    {
     "name": "stdout",
     "output_type": "stream",
     "text": [
      "Race: Amer-Indian-Eskimo, gender: Female\n",
      "count    185.000000\n",
      "mean      36.237838\n",
      "std       12.840056\n",
      "min       17.000000\n",
      "25%       26.000000\n",
      "50%       35.000000\n",
      "75%       46.000000\n",
      "max       80.000000\n",
      "Name: age, dtype: float64\n",
      "Race: Amer-Indian-Eskimo, gender: Male\n",
      "count    285.000000\n",
      "mean      36.989474\n",
      "std       11.703943\n",
      "min       17.000000\n",
      "25%       29.000000\n",
      "50%       35.000000\n",
      "75%       44.000000\n",
      "max       82.000000\n",
      "Name: age, dtype: float64\n",
      "Race: Asian-Pac-Islander, gender: Female\n",
      "count    517.000000\n",
      "mean      35.657640\n",
      "std       12.637799\n",
      "min       17.000000\n",
      "25%       25.000000\n",
      "50%       34.000000\n",
      "75%       44.000000\n",
      "max       81.000000\n",
      "Name: age, dtype: float64\n",
      "Race: Asian-Pac-Islander, gender: Male\n",
      "count    1002.000000\n",
      "mean       38.994012\n",
      "std        12.824878\n",
      "min        18.000000\n",
      "25%        29.000000\n",
      "50%        37.000000\n",
      "75%        46.000000\n",
      "max        90.000000\n",
      "Name: age, dtype: float64\n",
      "Race: Black, gender: Female\n",
      "count    2308.000000\n",
      "mean       37.905979\n",
      "std        12.736001\n",
      "min        17.000000\n",
      "25%        28.000000\n",
      "50%        36.000000\n",
      "75%        46.000000\n",
      "max        90.000000\n",
      "Name: age, dtype: float64\n",
      "Race: Black, gender: Male\n",
      "count    2377.000000\n",
      "mean       37.922592\n",
      "std        13.036981\n",
      "min        17.000000\n",
      "25%        28.000000\n",
      "50%        36.000000\n",
      "75%        46.000000\n",
      "max        90.000000\n",
      "Name: age, dtype: float64\n",
      "Race: Other, gender: Female\n",
      "count    155.000000\n",
      "mean      31.212903\n",
      "std       11.233061\n",
      "min       17.000000\n",
      "25%       23.000000\n",
      "50%       29.000000\n",
      "75%       37.000000\n",
      "max       74.000000\n",
      "Name: age, dtype: float64\n",
      "Race: Other, gender: Male\n",
      "count    251.000000\n",
      "mean      35.167331\n",
      "std       11.808297\n",
      "min       17.000000\n",
      "25%       26.000000\n",
      "50%       32.000000\n",
      "75%       42.500000\n",
      "max       77.000000\n",
      "Name: age, dtype: float64\n",
      "Race: White, gender: Female\n",
      "count    13027.000000\n",
      "mean        36.882935\n",
      "std         14.454178\n",
      "min         17.000000\n",
      "25%         25.000000\n",
      "50%         35.000000\n",
      "75%         47.000000\n",
      "max         90.000000\n",
      "Name: age, dtype: float64\n",
      "Race: White, gender: Male\n",
      "count    28735.000000\n",
      "mean        39.704507\n",
      "std         13.475250\n",
      "min         17.000000\n",
      "25%         29.000000\n",
      "50%         38.000000\n",
      "75%         49.000000\n",
      "max         90.000000\n",
      "Name: age, dtype: float64\n"
     ]
    }
   ],
   "source": [
    "for (race, sex), sub_df in data.groupby(['race', 'gender']):\n",
    "    print(\"Race: {0}, gender: {1}\".format(race, sex))\n",
    "    print(sub_df['age'].describe())"
   ]
  },
  {
   "cell_type": "code",
   "execution_count": 13,
   "metadata": {},
   "outputs": [
    {
     "data": {
      "text/plain": [
       "<=50K    11414\n",
       ">50K      1001\n",
       "Name: income, dtype: int64"
      ]
     },
     "execution_count": 13,
     "metadata": {},
     "output_type": "execute_result"
    }
   ],
   "source": [
    "data.loc[(data['gender'] == 'Male') &\n",
    "     (data['marital-status'].isin(['Never-married', \n",
    "                                   'Separated', \n",
    "                                   'Divorced',\n",
    "                                   'Widowed'])), 'income'].value_counts()"
   ]
  },
  {
   "cell_type": "code",
   "execution_count": 15,
   "metadata": {},
   "outputs": [
    {
     "data": {
      "text/plain": [
       "<=50K    11318\n",
       ">50K      8917\n",
       "Name: income, dtype: int64"
      ]
     },
     "execution_count": 15,
     "metadata": {},
     "output_type": "execute_result"
    }
   ],
   "source": [
    "data.loc[(data['gender'] == 'Male') &\n",
    "     (data['marital-status'].str.startswith('Married')), 'income'].value_counts()"
   ]
  },
  {
   "cell_type": "code",
   "execution_count": 16,
   "metadata": {},
   "outputs": [
    {
     "data": {
      "text/plain": [
       "Married-civ-spouse       22379\n",
       "Never-married            16117\n",
       "Divorced                  6633\n",
       "Separated                 1530\n",
       "Widowed                   1518\n",
       "Married-spouse-absent      628\n",
       "Married-AF-spouse           37\n",
       "Name: marital-status, dtype: int64"
      ]
     },
     "execution_count": 16,
     "metadata": {},
     "output_type": "execute_result"
    }
   ],
   "source": [
    "data['marital-status'].value_counts()"
   ]
  },
  {
   "cell_type": "code",
   "execution_count": 18,
   "metadata": {},
   "outputs": [
    {
     "name": "stdout",
     "output_type": "stream",
     "text": [
      "Max time - 99 hours./week.\n",
      "Total number of such hard workers 137\n",
      "Percentage of rich among them 29%\n"
     ]
    }
   ],
   "source": [
    "max_load = data['hours-per-week'].max()\n",
    "print(\"Max time - {0} hours./week.\".format(max_load))\n",
    "\n",
    "num_workaholics = data[data['hours-per-week'] == max_load].shape[0]\n",
    "print(\"Total number of such hard workers {0}\".format(num_workaholics))\n",
    "\n",
    "rich_share = float(data[(data['hours-per-week'] == max_load)\n",
    "                 & (data['income'] == '>50K')].shape[0]) / num_workaholics\n",
    "print(\"Percentage of rich among them {0}%\".format(int(100 * rich_share)))"
   ]
  },
  {
   "cell_type": "code",
   "execution_count": 20,
   "metadata": {},
   "outputs": [
    {
     "name": "stdout",
     "output_type": "stream",
     "text": [
      "? <=50K 39.55\n",
      "? >50K 45.32\n",
      "Cambodia <=50K 41.16\n",
      "Cambodia >50K 43.89\n",
      "Canada <=50K 37.38\n",
      "Canada >50K 46.13\n",
      "China <=50K 36.69\n",
      "China >50K 42.03\n",
      "Columbia <=50K 39.12\n",
      "Columbia >50K 56.25\n",
      "Cuba <=50K 39.2\n",
      "Cuba >50K 42.85\n",
      "Dominican-Republic <=50K 41.56\n",
      "Dominican-Republic >50K 42.8\n",
      "Ecuador <=50K 37.95\n",
      "Ecuador >50K 47.83\n",
      "El-Salvador <=50K 35.82\n",
      "El-Salvador >50K 43.45\n",
      "England <=50K 39.38\n",
      "England >50K 46.3\n",
      "France <=50K 40.09\n",
      "France >50K 46.5\n",
      "Germany <=50K 38.9\n",
      "Germany >50K 45.71\n",
      "Greece <=50K 41.87\n",
      "Greece >50K 55.56\n",
      "Guatemala <=50K 38.79\n",
      "Guatemala >50K 36.67\n",
      "Haiti <=50K 36.41\n",
      "Haiti >50K 40.67\n",
      "Holand-Netherlands <=50K 40.0\n",
      "Honduras <=50K 34.06\n",
      "Honduras >50K 50.0\n",
      "Hong <=50K 39.0\n",
      "Hong >50K 43.75\n",
      "Hungary <=50K 34.08\n",
      "Hungary >50K 46.33\n",
      "India <=50K 38.04\n",
      "India >50K 46.27\n",
      "Iran <=50K 39.97\n",
      "Iran >50K 47.95\n",
      "Ireland <=50K 41.27\n",
      "Ireland >50K 45.18\n",
      "Italy <=50K 38.69\n",
      "Italy >50K 45.65\n",
      "Jamaica <=50K 38.63\n",
      "Jamaica >50K 42.4\n",
      "Japan <=50K 39.73\n",
      "Japan >50K 47.06\n",
      "Laos <=50K 39.33\n",
      "Laos >50K 40.0\n",
      "Mexico <=50K 39.93\n",
      "Mexico >50K 45.64\n",
      "Nicaragua <=50K 36.85\n",
      "Nicaragua >50K 38.33\n",
      "Outlying-US(Guam-USVI-etc) <=50K 41.41\n",
      "Outlying-US(Guam-USVI-etc) >50K 40.0\n",
      "Peru <=50K 36.21\n",
      "Peru >50K 40.0\n",
      "Philippines <=50K 38.01\n",
      "Philippines >50K 43.59\n",
      "Poland <=50K 37.23\n",
      "Poland >50K 39.59\n",
      "Portugal <=50K 41.25\n",
      "Portugal >50K 46.75\n",
      "Puerto-Rico <=50K 38.91\n",
      "Puerto-Rico >50K 39.9\n",
      "Scotland <=50K 40.83\n",
      "Scotland >50K 46.67\n",
      "South <=50K 41.05\n",
      "South >50K 51.4\n",
      "Taiwan <=50K 35.31\n",
      "Taiwan >50K 45.54\n",
      "Thailand <=50K 43.04\n",
      "Thailand >50K 53.0\n",
      "Trinadad&Tobago <=50K 38.8\n",
      "Trinadad&Tobago >50K 40.0\n",
      "United-States <=50K 38.82\n",
      "United-States >50K 45.47\n",
      "Vietnam <=50K 37.85\n",
      "Vietnam >50K 39.43\n",
      "Yugoslavia <=50K 38.53\n",
      "Yugoslavia >50K 43.38\n"
     ]
    }
   ],
   "source": [
    "for (country, salary), sub_df in data.groupby(['native-country', 'income']):\n",
    "    print(country, salary, round(sub_df['hours-per-week'].mean(), 2))"
   ]
  },
  {
   "cell_type": "code",
   "execution_count": null,
   "metadata": {},
   "outputs": [],
   "source": []
  }
 ],
 "metadata": {
  "kernelspec": {
   "display_name": "Python 3",
   "language": "python",
   "name": "python3"
  },
  "language_info": {
   "codemirror_mode": {
    "name": "ipython",
    "version": 3
   },
   "file_extension": ".py",
   "mimetype": "text/x-python",
   "name": "python",
   "nbconvert_exporter": "python",
   "pygments_lexer": "ipython3",
   "version": "3.7.1"
  }
 },
 "nbformat": 4,
 "nbformat_minor": 2
}
