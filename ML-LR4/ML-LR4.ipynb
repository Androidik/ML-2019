{
 "cells": [
  {
   "cell_type": "code",
   "execution_count": 155,
   "metadata": {},
   "outputs": [],
   "source": [
    "import sklearn\n",
    "import pandas as pd\n",
    "from sklearn.model_selection import train_test_split\n",
    "from sklearn.neighbors import KNeighborsClassifier\n",
    "from sklearn.preprocessing import LabelEncoder\n",
    "import numpy as np\n",
    "from typing import Dict, Tuple\n",
    "from scipy import stats\n",
    "from sklearn.metrics import accuracy_score, balanced_accuracy_score\n",
    "from sklearn.metrics import precision_score, recall_score, f1_score, classification_report\n",
    "from sklearn.metrics import confusion_matrix\n",
    "from sklearn.metrics import mean_absolute_error, mean_squared_error, mean_squared_log_error, median_absolute_error, r2_score \n",
    "from sklearn.metrics import roc_curve, roc_auc_score\n",
    "import seaborn as sns\n",
    "import matplotlib.pyplot as plt\n",
    "from sklearn.model_selection import cross_val_score, cross_validate, KFold, LeaveOneOut, GridSearchCV,learning_curve,validation_curve\n",
    "import time\n",
    "%matplotlib inline \n",
    "sns.set(style=\"ticks\")"
   ]
  },
  {
   "cell_type": "code",
   "execution_count": 2,
   "metadata": {},
   "outputs": [
    {
     "data": {
      "text/html": [
       "<div>\n",
       "<style scoped>\n",
       "    .dataframe tbody tr th:only-of-type {\n",
       "        vertical-align: middle;\n",
       "    }\n",
       "\n",
       "    .dataframe tbody tr th {\n",
       "        vertical-align: top;\n",
       "    }\n",
       "\n",
       "    .dataframe thead th {\n",
       "        text-align: right;\n",
       "    }\n",
       "</style>\n",
       "<table border=\"1\" class=\"dataframe\">\n",
       "  <thead>\n",
       "    <tr style=\"text-align: right;\">\n",
       "      <th></th>\n",
       "      <th>sepal_length</th>\n",
       "      <th>sepal_width</th>\n",
       "      <th>petal_length</th>\n",
       "      <th>petal_width</th>\n",
       "      <th>class</th>\n",
       "    </tr>\n",
       "  </thead>\n",
       "  <tbody>\n",
       "    <tr>\n",
       "      <th>0</th>\n",
       "      <td>5.1</td>\n",
       "      <td>3.5</td>\n",
       "      <td>1.4</td>\n",
       "      <td>0.2</td>\n",
       "      <td>Iris-setosa</td>\n",
       "    </tr>\n",
       "    <tr>\n",
       "      <th>1</th>\n",
       "      <td>4.9</td>\n",
       "      <td>3.0</td>\n",
       "      <td>1.4</td>\n",
       "      <td>0.2</td>\n",
       "      <td>Iris-setosa</td>\n",
       "    </tr>\n",
       "    <tr>\n",
       "      <th>2</th>\n",
       "      <td>4.7</td>\n",
       "      <td>3.2</td>\n",
       "      <td>1.3</td>\n",
       "      <td>0.2</td>\n",
       "      <td>Iris-setosa</td>\n",
       "    </tr>\n",
       "    <tr>\n",
       "      <th>3</th>\n",
       "      <td>4.6</td>\n",
       "      <td>3.1</td>\n",
       "      <td>1.5</td>\n",
       "      <td>0.2</td>\n",
       "      <td>Iris-setosa</td>\n",
       "    </tr>\n",
       "    <tr>\n",
       "      <th>4</th>\n",
       "      <td>5.0</td>\n",
       "      <td>3.6</td>\n",
       "      <td>1.4</td>\n",
       "      <td>0.2</td>\n",
       "      <td>Iris-setosa</td>\n",
       "    </tr>\n",
       "  </tbody>\n",
       "</table>\n",
       "</div>"
      ],
      "text/plain": [
       "   sepal_length  sepal_width  petal_length  petal_width        class\n",
       "0           5.1          3.5           1.4          0.2  Iris-setosa\n",
       "1           4.9          3.0           1.4          0.2  Iris-setosa\n",
       "2           4.7          3.2           1.3          0.2  Iris-setosa\n",
       "3           4.6          3.1           1.5          0.2  Iris-setosa\n",
       "4           5.0          3.6           1.4          0.2  Iris-setosa"
      ]
     },
     "execution_count": 2,
     "metadata": {},
     "output_type": "execute_result"
    }
   ],
   "source": [
    "data = pd.read_csv('iris.data.txt', sep=',')\n",
    "data.head()"
   ]
  },
  {
   "cell_type": "code",
   "execution_count": 3,
   "metadata": {},
   "outputs": [
    {
     "name": "stderr",
     "output_type": "stream",
     "text": [
      "C:\\Anaconda\\lib\\site-packages\\sklearn\\preprocessing\\label.py:235: DataConversionWarning: A column-vector y was passed when a 1d array was expected. Please change the shape of y to (n_samples, ), for example using ravel().\n",
      "  y = column_or_1d(y, warn=True)\n"
     ]
    },
    {
     "data": {
      "text/html": [
       "<div>\n",
       "<style scoped>\n",
       "    .dataframe tbody tr th:only-of-type {\n",
       "        vertical-align: middle;\n",
       "    }\n",
       "\n",
       "    .dataframe tbody tr th {\n",
       "        vertical-align: top;\n",
       "    }\n",
       "\n",
       "    .dataframe thead th {\n",
       "        text-align: right;\n",
       "    }\n",
       "</style>\n",
       "<table border=\"1\" class=\"dataframe\">\n",
       "  <thead>\n",
       "    <tr style=\"text-align: right;\">\n",
       "      <th></th>\n",
       "      <th>sepal_length</th>\n",
       "      <th>sepal_width</th>\n",
       "      <th>petal_length</th>\n",
       "      <th>petal_width</th>\n",
       "      <th>class</th>\n",
       "    </tr>\n",
       "  </thead>\n",
       "  <tbody>\n",
       "    <tr>\n",
       "      <th>0</th>\n",
       "      <td>5.1</td>\n",
       "      <td>3.5</td>\n",
       "      <td>1.4</td>\n",
       "      <td>0.2</td>\n",
       "      <td>0</td>\n",
       "    </tr>\n",
       "    <tr>\n",
       "      <th>1</th>\n",
       "      <td>4.9</td>\n",
       "      <td>3.0</td>\n",
       "      <td>1.4</td>\n",
       "      <td>0.2</td>\n",
       "      <td>0</td>\n",
       "    </tr>\n",
       "    <tr>\n",
       "      <th>2</th>\n",
       "      <td>4.7</td>\n",
       "      <td>3.2</td>\n",
       "      <td>1.3</td>\n",
       "      <td>0.2</td>\n",
       "      <td>0</td>\n",
       "    </tr>\n",
       "    <tr>\n",
       "      <th>3</th>\n",
       "      <td>4.6</td>\n",
       "      <td>3.1</td>\n",
       "      <td>1.5</td>\n",
       "      <td>0.2</td>\n",
       "      <td>0</td>\n",
       "    </tr>\n",
       "    <tr>\n",
       "      <th>4</th>\n",
       "      <td>5.0</td>\n",
       "      <td>3.6</td>\n",
       "      <td>1.4</td>\n",
       "      <td>0.2</td>\n",
       "      <td>0</td>\n",
       "    </tr>\n",
       "  </tbody>\n",
       "</table>\n",
       "</div>"
      ],
      "text/plain": [
       "   sepal_length  sepal_width  petal_length  petal_width  class\n",
       "0           5.1          3.5           1.4          0.2      0\n",
       "1           4.9          3.0           1.4          0.2      0\n",
       "2           4.7          3.2           1.3          0.2      0\n",
       "3           4.6          3.1           1.5          0.2      0\n",
       "4           5.0          3.6           1.4          0.2      0"
      ]
     },
     "execution_count": 3,
     "metadata": {},
     "output_type": "execute_result"
    }
   ],
   "source": [
    "ClassCoded = data[['class']]\n",
    "LaEnc = LabelEncoder()\n",
    "data[['class']] = pd.DataFrame(LaEnc.fit_transform(ClassCoded), columns=['class'])\n",
    "data.head()"
   ]
  },
  {
   "cell_type": "code",
   "execution_count": 4,
   "metadata": {},
   "outputs": [
    {
     "name": "stdout",
     "output_type": "stream",
     "text": [
      "Число строк обучающего и тестового наборов:\n",
      "  Обучающий: 105 (70.0 %)\n",
      "  Тестовый: 45 (30.0 %)\n"
     ]
    }
   ],
   "source": [
    "# Разделим датасет на обучающий (train) и тестовый (test) набор\n",
    "trainX, testX, trainY, testY = train_test_split(data[['sepal_length','sepal_width','petal_length','petal_width']],data['class'], test_size=0.3, random_state = 1)\n",
    "print('Число строк обучающего и тестового наборов:')\n",
    "print('  Обучающий: {0} ({1} %)'.format(trainX.shape[0], round(trainX.shape[0]/data.shape[0]*100,4)))\n",
    "print('  Тестовый: {0} ({1} %)'.format(testX.shape[0], round(testX.shape[0]/data.shape[0]*100,4)))"
   ]
  },
  {
   "cell_type": "code",
   "execution_count": 7,
   "metadata": {},
   "outputs": [
    {
     "data": {
      "text/plain": [
       "KNeighborsClassifier(algorithm='auto', leaf_size=30, metric='minkowski',\n",
       "           metric_params=None, n_jobs=None, n_neighbors=3, p=2,\n",
       "           weights='uniform')"
      ]
     },
     "execution_count": 7,
     "metadata": {},
     "output_type": "execute_result"
    }
   ],
   "source": [
    "# Проведём обучение 3 моделей с различным числом соседей\n",
    "Classifier3N = KNeighborsClassifier(n_neighbors = 3)\n",
    "Classifier3N.fit(trainX,trainY)"
   ]
  },
  {
   "cell_type": "code",
   "execution_count": 8,
   "metadata": {},
   "outputs": [
    {
     "name": "stdout",
     "output_type": "stream",
     "text": [
      "Классификатор с 3 соседями: 97.7778 %\n"
     ]
    }
   ],
   "source": [
    "# Оценка качества обучения модели.\n",
    "Nb3Score = round(Classifier3N.score(testX,testY)*100, 4)\n",
    "print('Классификатор с 3 соседями: {} %'.format(Nb3Score))"
   ]
  },
  {
   "cell_type": "code",
   "execution_count": 12,
   "metadata": {},
   "outputs": [
    {
     "data": {
      "text/plain": [
       "0.9777777777777777"
      ]
     },
     "execution_count": 12,
     "metadata": {},
     "output_type": "execute_result"
    }
   ],
   "source": [
    "Results3N = Classifier3N.predict(testX)\n",
    "accuracy_score(testY, Results3N)"
   ]
  },
  {
   "cell_type": "code",
   "execution_count": 49,
   "metadata": {},
   "outputs": [
    {
     "name": "stdout",
     "output_type": "stream",
     "text": [
      "Результат для класса 0: 100.0 %\n",
      "Результат для класса 1: 100.0 %\n",
      "Результат для класса 2: 92.3077 %\n"
     ]
    }
   ],
   "source": [
    "# Рассмотрим результаты для каждого класса отдельно\n",
    "resultDF = {\n",
    "        'Prediction': Results3N,\n",
    "        'Answer': testY\n",
    "}\n",
    "ResultData = pd.DataFrame(resultDF, columns = ['Prediction','Answer'])\n",
    "Classes = np.unique(testY)\n",
    "for c in Classes:\n",
    "    temp_data_flt = ResultData[ResultData['Answer']==c]\n",
    "    temp_acc = accuracy_score(\n",
    "        temp_data_flt['Answer'].values, \n",
    "        temp_data_flt['Prediction'].values)\n",
    "    print('Результат для класса {0}: {1} %'.format(c, round(temp_acc*100, 4)))"
   ]
  },
  {
   "cell_type": "code",
   "execution_count": 119,
   "metadata": {},
   "outputs": [
    {
     "name": "stdout",
     "output_type": "stream",
     "text": [
      "\n",
      "Class : 0\n",
      "   precision : \t1.0\n",
      "   recall : \t1.0\n",
      "   f1-score : \t1.0\n",
      "   support : \t14\n",
      "\n",
      "Class : 1\n",
      "   precision : \t0.9473684210526315\n",
      "   recall : \t1.0\n",
      "   f1-score : \t0.972972972972973\n",
      "   support : \t18\n",
      "\n",
      "Class : 2\n",
      "   precision : \t1.0\n",
      "   recall : \t0.9230769230769231\n",
      "   f1-score : \t0.9600000000000001\n",
      "   support : \t13\n",
      "\n",
      "Class : micro avg\n",
      "   precision : \t0.9777777777777777\n",
      "   recall : \t0.9777777777777777\n",
      "   f1-score : \t0.9777777777777777\n",
      "   support : \t45\n",
      "\n",
      "Class : macro avg\n",
      "   precision : \t0.9824561403508771\n",
      "   recall : \t0.9743589743589745\n",
      "   f1-score : \t0.9776576576576578\n",
      "   support : \t45\n",
      "\n",
      "Class : weighted avg\n",
      "   precision : \t0.9789473684210527\n",
      "   recall : \t0.9777777777777777\n",
      "   f1-score : \t0.9776336336336338\n",
      "   support : \t45\n"
     ]
    }
   ],
   "source": [
    "ClassReport3N = classification_report(testY, Results3N, output_dict = True)\n",
    "for ReportName,ReportResult in ClassReport3N.items():\n",
    "    print('\\nClass :',ReportName)\n",
    "    for result0, result1 in ReportResult.items():\n",
    "        print('   {0} : \\t{1}'.format(result0, result1))       "
   ]
  },
  {
   "cell_type": "code",
   "execution_count": 98,
   "metadata": {},
   "outputs": [
    {
     "name": "stdout",
     "output_type": "stream",
     "text": [
      "Результаты нестратифицированной перекрёстной проверки:\n",
      "    98.0392 %\n",
      "    96.0784 %\n",
      "    100.0 %\n",
      "Средний результат нестратифицированной перекрёстной проверки: 98.0392 %\n",
      "\n",
      "Результаты стратифицированной перекрёстной проверки:\n",
      "    96.0 %\n",
      "    94.0 %\n",
      "    96.0 %\n",
      "Средний результат стратифицированной перекрёстной проверки: 95.3333 %\n"
     ]
    }
   ],
   "source": [
    "# Кросс-валидация\n",
    "# Стратифицированная K-Fold перекрёстная проверка\n",
    "Scores1 = cross_val_score(Classifier3N, data[['sepal_length','sepal_width','petal_length','petal_width']],data['class'], cv = 3)\n",
    "print('Результаты нестратифицированной перекрёстной проверки:')\n",
    "for Sc in Scores1:\n",
    "    print('    {} %'.format(round(Sc*100,4)))\n",
    "print('Средний результат нестратифицированной перекрёстной проверки: {} %\\n'.format(round(Scores1.mean()*100,4)))\n",
    "# Результат не точен из-за распределения классов в датасете\n",
    "# Для решения данной проблеммы применим стратифицированную перекрёстную проверку\n",
    "kfold = KFold(n_splits = 3, shuffle = True, random_state=0)\n",
    "KFoldStartTime = time.time()\n",
    "Scores2 = cross_val_score(Classifier3N, data[['sepal_length','sepal_width','petal_length','petal_width']],data['class'], cv = kfold)\n",
    "KFoldStopTime = time.time()\n",
    "print('Результаты стратифицированной перекрёстной проверки:')\n",
    "for Sc in Scores2:\n",
    "    print('    {} %'.format(round(Sc*100,4)))\n",
    "print('Средний результат стратифицированной перекрёстной проверки: {} %'.format(round(Scores2.mean()*100,4)))"
   ]
  },
  {
   "cell_type": "code",
   "execution_count": 104,
   "metadata": {},
   "outputs": [
    {
     "name": "stdout",
     "output_type": "stream",
     "text": [
      "Средний результат перекрёстной проверки  с исключением по одному: 96.0 %\n",
      "Время выполнения стратифицированной перекрёстной проверки:0.019 с\n",
      "Время выполнения перекрёстной проверки с исключением по одному:0.538 с\n"
     ]
    }
   ],
   "source": [
    "# Перекрёстная проверка с исключением по одному\n",
    "loo = LeaveOneOut()\n",
    "LOOStartTime = time.time()\n",
    "Scores3 = cross_val_score(Classifier3N, data[['sepal_length','sepal_width','petal_length','petal_width']], data['class'], cv = loo)\n",
    "LOOStopTime = time.time()\n",
    "print('Средний результат перекрёстной проверки  с исключением по одному: {} %'.format(round(Scores3.mean()*100,4)))\n",
    "print('Время выполнения стратифицированной перекрёстной проверки:{} с'.format(round(KFoldStopTime-KFoldStartTime,4)))\n",
    "print('Время выполнения перекрёстной проверки с исключением по одному:{} с'.format(round(LOOStopTime-LOOStartTime,4)))"
   ]
  },
  {
   "cell_type": "code",
   "execution_count": 126,
   "metadata": {},
   "outputs": [
    {
     "data": {
      "text/plain": [
       "GridSearchCV(cv=LeaveOneOut(), error_score='raise-deprecating',\n",
       "       estimator=KNeighborsClassifier(algorithm='auto', leaf_size=30, metric='minkowski',\n",
       "           metric_params=None, n_jobs=None, n_neighbors=5, p=2,\n",
       "           weights='uniform'),\n",
       "       fit_params=None, iid='warn', n_jobs=None,\n",
       "       param_grid=[{'n_neighbors': array([ 1,  2,  3,  4,  5,  6,  7,  8,  9, 10, 11, 12, 13, 14, 15])}],\n",
       "       pre_dispatch='2*n_jobs', refit=True, return_train_score='warn',\n",
       "       scoring='accuracy', verbose=0)"
      ]
     },
     "execution_count": 126,
     "metadata": {},
     "output_type": "execute_result"
    }
   ],
   "source": [
    "# Оптимизаия гиперпараметров\n",
    "NeighborsArr = np.array(range(1,16))\n",
    "tuned_parameters = [{'n_neighbors':NeighborsArr}]\n",
    "ClassifierGS = GridSearchCV(KNeighborsClassifier(), tuned_parameters, cv=loo, scoring='accuracy')\n",
    "ClassifierGS.fit(data[['sepal_length','sepal_width','petal_length','petal_width']], data['class'])"
   ]
  },
  {
   "cell_type": "code",
   "execution_count": 143,
   "metadata": {},
   "outputs": [
    {
     "data": {
      "text/plain": [
       "10"
      ]
     },
     "execution_count": 143,
     "metadata": {},
     "output_type": "execute_result"
    }
   ],
   "source": [
    "GSBP = ClassifierGS.best_params_.get('n_neighbors')\n",
    "GSBP"
   ]
  },
  {
   "cell_type": "code",
   "execution_count": 145,
   "metadata": {},
   "outputs": [
    {
     "name": "stdout",
     "output_type": "stream",
     "text": [
      "\n",
      "Class : 0\n",
      "   precision : \t1.0\n",
      "   recall : \t1.0\n",
      "   f1-score : \t1.0\n",
      "   support : \t14\n",
      "\n",
      "Class : 1\n",
      "   precision : \t1.0\n",
      "   recall : \t0.9444444444444444\n",
      "   f1-score : \t0.9714285714285714\n",
      "   support : \t18\n",
      "\n",
      "Class : 2\n",
      "   precision : \t0.9285714285714286\n",
      "   recall : \t1.0\n",
      "   f1-score : \t0.962962962962963\n",
      "   support : \t13\n",
      "\n",
      "Class : micro avg\n",
      "   precision : \t0.9777777777777777\n",
      "   recall : \t0.9777777777777777\n",
      "   f1-score : \t0.9777777777777777\n",
      "   support : \t45\n",
      "\n",
      "Class : macro avg\n",
      "   precision : \t0.9761904761904763\n",
      "   recall : \t0.9814814814814815\n",
      "   f1-score : \t0.9781305114638448\n",
      "   support : \t45\n",
      "\n",
      "Class : weighted avg\n",
      "   precision : \t0.9793650793650793\n",
      "   recall : \t0.9777777777777777\n",
      "   f1-score : \t0.9778718400940623\n",
      "   support : \t45\n"
     ]
    }
   ],
   "source": [
    "ClassifierGSBP = KNeighborsClassifier(n_neighbors = GSBP)\n",
    "ClassifierGSBP.fit(trainX,trainY)\n",
    "ResultsGSBP = ClassifierGSBP.predict(testX)\n",
    "ClassReport5N = classification_report(testY, ResultsGSBP, output_dict = True)\n",
    "for ReportName,ReportResult in ClassReport5N.items():\n",
    "    print('\\nClass :',ReportName)\n",
    "    for result0, result1 in ReportResult.items():\n",
    "        print('   {0} : \\t{1}'.format(result0, result1))"
   ]
  },
  {
   "cell_type": "code",
   "execution_count": 146,
   "metadata": {},
   "outputs": [],
   "source": [
    "# Кривые обучения и валидации\n",
    "def plot_learning_curve(estimator, title, X, y, ylim=None, cv=None,\n",
    "                        n_jobs=None, train_sizes=np.linspace(.1, 1.0, 5)):\n",
    "    plt.figure()\n",
    "    plt.title(title)\n",
    "    if ylim is not None:\n",
    "        plt.ylim(*ylim)\n",
    "    plt.xlabel(\"Training examples\")\n",
    "    plt.ylabel(\"Score\")\n",
    "    train_sizes, train_scores, test_scores = learning_curve(\n",
    "        estimator, X, y, cv=cv, n_jobs=n_jobs, train_sizes=train_sizes)\n",
    "    train_scores_mean = np.mean(train_scores, axis=1)\n",
    "    train_scores_std = np.std(train_scores, axis=1)\n",
    "    test_scores_mean = np.mean(test_scores, axis=1)\n",
    "    test_scores_std = np.std(test_scores, axis=1)\n",
    "    plt.grid()\n",
    "\n",
    "    plt.fill_between(train_sizes, train_scores_mean - train_scores_std,\n",
    "                     train_scores_mean + train_scores_std, alpha=0.1,\n",
    "                     color=\"r\")\n",
    "    plt.fill_between(train_sizes, test_scores_mean - test_scores_std,\n",
    "                     test_scores_mean + test_scores_std, alpha=0.1, color=\"g\")\n",
    "    plt.plot(train_sizes, train_scores_mean, 'o-', color=\"r\",\n",
    "             label=\"Training score\")\n",
    "    plt.plot(train_sizes, test_scores_mean, 'o-', color=\"g\",\n",
    "             label=\"Cross-validation score\")\n",
    "\n",
    "    plt.legend(loc=\"best\")\n",
    "    return plt"
   ]
  },
  {
   "cell_type": "code",
   "execution_count": 151,
   "metadata": {},
   "outputs": [
    {
     "data": {
      "text/plain": [
       "<module 'matplotlib.pyplot' from 'C:\\\\Anaconda\\\\lib\\\\site-packages\\\\matplotlib\\\\pyplot.py'>"
      ]
     },
     "execution_count": 151,
     "metadata": {},
     "output_type": "execute_result"
    },
    {
     "data": {
      "image/png": "[encoded data removed]",
      "text/plain": [
       "<Figure size 432x288 with 1 Axes>"
      ]
     },
     "metadata": {},
     "output_type": "display_data"
    }
   ],
   "source": [
    "plot_learning_curve(KNeighborsClassifier(n_neighbors=5), 'n_neighbors={}'.format(5), \n",
    "                    trainX, trainY, cv=20)"
   ]
  },
  {
   "cell_type": "code",
   "execution_count": 152,
   "metadata": {},
   "outputs": [],
   "source": [
    "def plot_validation_curve(estimator, title, X, y, \n",
    "                          param_name, param_range, cv, \n",
    "                          scoring=\"accuracy\"):\n",
    "                                                   \n",
    "    train_scores, test_scores = validation_curve(\n",
    "        estimator, X, y, param_name=param_name, param_range=param_range,\n",
    "        cv=cv, scoring=scoring, n_jobs=1)\n",
    "    train_scores_mean = np.mean(train_scores, axis=1)\n",
    "    train_scores_std = np.std(train_scores, axis=1)\n",
    "    test_scores_mean = np.mean(test_scores, axis=1)\n",
    "    test_scores_std = np.std(test_scores, axis=1)\n",
    "\n",
    "    plt.title(title)\n",
    "    plt.xlabel(param_name)\n",
    "    plt.ylabel(\"Score\")\n",
    "    plt.ylim(0.0, 1.1)\n",
    "    lw = 2\n",
    "    plt.plot(param_range, train_scores_mean, label=\"Training score\",\n",
    "                 color=\"darkorange\", lw=lw)\n",
    "    plt.fill_between(param_range, train_scores_mean - train_scores_std,\n",
    "                     train_scores_mean + train_scores_std, alpha=0.2,\n",
    "                     color=\"darkorange\", lw=lw)\n",
    "    plt.plot(param_range, test_scores_mean, label=\"Cross-validation score\",\n",
    "                 color=\"navy\", lw=lw)\n",
    "    plt.fill_between(param_range, test_scores_mean - test_scores_std,\n",
    "                     test_scores_mean + test_scores_std, alpha=0.2,\n",
    "                     color=\"navy\", lw=lw)\n",
    "    plt.legend(loc=\"best\")\n",
    "    return plt"
   ]
  },
  {
   "cell_type": "code",
   "execution_count": 156,
   "metadata": {},
   "outputs": [
    {
     "data": {
      "text/plain": [
       "<module 'matplotlib.pyplot' from 'C:\\\\Anaconda\\\\lib\\\\site-packages\\\\matplotlib\\\\pyplot.py'>"
      ]
     },
     "execution_count": 156,
     "metadata": {},
     "output_type": "execute_result"
    },
    {
     "data": {
      "image/png": "[encoded data removed]",
      "text/plain": [
       "<Figure size 432x288 with 1 Axes>"
      ]
     },
     "metadata": {},
     "output_type": "display_data"
    }
   ],
   "source": [
    "plot_validation_curve(KNeighborsClassifier(), 'knn', \n",
    "                      trainX, trainY, \n",
    "                      param_name='n_neighbors', param_range=NeighborsArr, \n",
    "                      cv=20, scoring=\"accuracy\")"
   ]
  },
  {
   "cell_type": "code",
   "execution_count": null,
   "metadata": {},
   "outputs": [],
   "source": []
  }
 ],
 "metadata": {
  "kernelspec": {
   "display_name": "Python 3",
   "language": "python",
   "name": "python3"
  },
  "language_info": {
   "codemirror_mode": {
    "name": "ipython",
    "version": 3
   },
   "file_extension": ".py",
   "mimetype": "text/x-python",
   "name": "python",
   "nbconvert_exporter": "python",
   "pygments_lexer": "ipython3",
   "version": "3.7.1"
  }
 },
 "nbformat": 4,
 "nbformat_minor": 2
}
